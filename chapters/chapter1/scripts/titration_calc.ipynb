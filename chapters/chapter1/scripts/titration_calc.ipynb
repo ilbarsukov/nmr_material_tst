{
 "cells": [
  {
   "cell_type": "markdown",
   "metadata": {},
   "source": [
    "Calculate a series of titrations\n",
    "\n",
    "Two tubes A and B have the same volume V and initial concentrations Ca0 < Cb0. To achieve target concentration Va1, volume dV taken from tube B and added to tube A. After mixing, same volume dV transferred back to tube B. Calculate dV and Cb1. Iterate through a set of concentrations.\n",
    "\n",
    "V*Ca0 + dV*Cb0 = V*Ca1 -> dV = V*(Ca1-Ca0)/Cb0\n",
    "(V-dV)*Cb0 + dV*Ca1 = V*Cb1 -> Cb1 = (V*Cb0 + dV*(Ca1 - Cb0))/V"
   ]
  },
  {
   "cell_type": "code",
   "execution_count": 19,
   "metadata": {},
   "outputs": [
    {
     "name": "stdout",
     "output_type": "stream",
     "text": [
      "Ca0 - Ca1 + Cb0 ;  V*(-Ca0 + Ca1)/(-Ca1 + Cb0)\n",
      "15.384615384615385 1950\n",
      "15.384615384615385 0 1950\n",
      "16.216216216216218 50 1900\n",
      "20.689655172413794 100 1840\n",
      "33.9622641509434 160 1750\n",
      "92.3076923076923 250 1550\n",
      "280.0 450 1200\n"
     ]
    }
   ],
   "source": [
    "import sympy as sp\n",
    "import numpy as np\n",
    "\n",
    "# Define symbols\n",
    "V, Ca0, Ca1, Cb0, Cb1 = sp.symbols('V Ca0 Ca1 Cb0 Cb1')\n",
    "\n",
    "dV = V*(Ca1-Ca0)/(Cb0 - Ca1)\n",
    "\n",
    "Cb1 = (V * Cb0 + dV * (Ca1 - Cb0)) / V\n",
    "\n",
    "Cb1 = Cb1.simplify()\n",
    "\n",
    "print(Cb1,'; ', dV)\n",
    "\n",
    "dV_func = sp.lambdify((V,Ca0,Ca1,Cb0),dV, 'numpy')\n",
    "Cb1_func = sp.lambdify((V,Ca0,Ca1,Cb0),Cb1, 'numpy')\n",
    "\n",
    "V_val = 600; Ca0_val = 0; Cb0_val = 2000\n",
    "\n",
    "Ca1_val = 50\n",
    "dV1_val = dV_func(V_val,Ca0_val,Ca1_val,Cb0_val)\n",
    "Cb1_val = Cb1_func(V_val,Ca0_val,Ca1_val,Cb0_val)\n",
    "print(dV1_val,Cb1_val)\n",
    "\n",
    "C1_list = (50,100,160,250,450,800)\n",
    "for c1_ in C1_list:\n",
    "    dV1_val = dV_func(V_val,Ca0_val,c1_,Cb0_val)\n",
    "    Cb1_val = Cb1_func(V_val,Ca0_val,c1_,Cb0_val)\n",
    "    print(dV1_val,Ca0_val,Cb1_val)\n",
    "    Ca0_val = c1_; Cb0_val = Cb1_val\n"
   ]
  }
 ],
 "metadata": {
  "kernelspec": {
   "display_name": "znmr",
   "language": "python",
   "name": "python3"
  },
  "language_info": {
   "codemirror_mode": {
    "name": "ipython",
    "version": 3
   },
   "file_extension": ".py",
   "mimetype": "text/x-python",
   "name": "python",
   "nbconvert_exporter": "python",
   "pygments_lexer": "ipython3",
   "version": "3.9.13"
  }
 },
 "nbformat": 4,
 "nbformat_minor": 2
}
